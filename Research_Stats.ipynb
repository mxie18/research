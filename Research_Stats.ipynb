{
  "nbformat": 4,
  "nbformat_minor": 0,
  "metadata": {
    "colab": {
      "provenance": [],
      "include_colab_link": true
    },
    "kernelspec": {
      "name": "python3",
      "display_name": "Python 3"
    },
    "language_info": {
      "name": "python"
    }
  },
  "cells": [
    {
      "cell_type": "markdown",
      "metadata": {
        "id": "view-in-github",
        "colab_type": "text"
      },
      "source": [
        "<a href=\"https://colab.research.google.com/github/mxie18/research/blob/main/Research_Stats.ipynb\" target=\"_parent\"><img src=\"https://colab.research.google.com/assets/colab-badge.svg\" alt=\"Open In Colab\"/></a>"
      ]
    },
    {
      "cell_type": "code",
      "source": [
        "!pip install pingouin"
      ],
      "metadata": {
        "id": "dSdXnep7JjSX"
      },
      "execution_count": null,
      "outputs": []
    },
    {
      "cell_type": "code",
      "execution_count": null,
      "metadata": {
        "id": "O-4PY-x4E6me"
      },
      "outputs": [],
      "source": [
        "import pandas as pd\n",
        "import altair as alt \n",
        "import pingouin as pg\n",
        "import scipy.stats\n",
        "import seaborn as sns\n",
        "import math\n",
        "import matplotlib.pyplot as plt\n"
      ]
    },
    {
      "cell_type": "code",
      "source": [
        "data = pd.read_csv(\"fp4final.csv\")\n",
        "data.head()"
      ],
      "metadata": {
        "colab": {
          "base_uri": "https://localhost:8080/",
          "height": 206
        },
        "id": "3uIKQr7FIBlw",
        "outputId": "3bd24548-0521-4a7a-dc93-c904d7427853"
      },
      "execution_count": null,
      "outputs": [
        {
          "output_type": "execute_result",
          "data": {
            "text/plain": [
              "   participant  landscape  abstract  portrait  fullbody\n",
              "0            1          3         3         4         3\n",
              "1            2          4         3         4         3\n",
              "2            3          1         3         3         2\n",
              "3            4          4         2         4         4\n",
              "4            5          4         3         3         1"
            ],
            "text/html": [
              "\n",
              "  <div id=\"df-748c03b3-c9de-47a1-9289-2b308f5ce4a8\">\n",
              "    <div class=\"colab-df-container\">\n",
              "      <div>\n",
              "<style scoped>\n",
              "    .dataframe tbody tr th:only-of-type {\n",
              "        vertical-align: middle;\n",
              "    }\n",
              "\n",
              "    .dataframe tbody tr th {\n",
              "        vertical-align: top;\n",
              "    }\n",
              "\n",
              "    .dataframe thead th {\n",
              "        text-align: right;\n",
              "    }\n",
              "</style>\n",
              "<table border=\"1\" class=\"dataframe\">\n",
              "  <thead>\n",
              "    <tr style=\"text-align: right;\">\n",
              "      <th></th>\n",
              "      <th>participant</th>\n",
              "      <th>landscape</th>\n",
              "      <th>abstract</th>\n",
              "      <th>portrait</th>\n",
              "      <th>fullbody</th>\n",
              "    </tr>\n",
              "  </thead>\n",
              "  <tbody>\n",
              "    <tr>\n",
              "      <th>0</th>\n",
              "      <td>1</td>\n",
              "      <td>3</td>\n",
              "      <td>3</td>\n",
              "      <td>4</td>\n",
              "      <td>3</td>\n",
              "    </tr>\n",
              "    <tr>\n",
              "      <th>1</th>\n",
              "      <td>2</td>\n",
              "      <td>4</td>\n",
              "      <td>3</td>\n",
              "      <td>4</td>\n",
              "      <td>3</td>\n",
              "    </tr>\n",
              "    <tr>\n",
              "      <th>2</th>\n",
              "      <td>3</td>\n",
              "      <td>1</td>\n",
              "      <td>3</td>\n",
              "      <td>3</td>\n",
              "      <td>2</td>\n",
              "    </tr>\n",
              "    <tr>\n",
              "      <th>3</th>\n",
              "      <td>4</td>\n",
              "      <td>4</td>\n",
              "      <td>2</td>\n",
              "      <td>4</td>\n",
              "      <td>4</td>\n",
              "    </tr>\n",
              "    <tr>\n",
              "      <th>4</th>\n",
              "      <td>5</td>\n",
              "      <td>4</td>\n",
              "      <td>3</td>\n",
              "      <td>3</td>\n",
              "      <td>1</td>\n",
              "    </tr>\n",
              "  </tbody>\n",
              "</table>\n",
              "</div>\n",
              "      <button class=\"colab-df-convert\" onclick=\"convertToInteractive('df-748c03b3-c9de-47a1-9289-2b308f5ce4a8')\"\n",
              "              title=\"Convert this dataframe to an interactive table.\"\n",
              "              style=\"display:none;\">\n",
              "        \n",
              "  <svg xmlns=\"http://www.w3.org/2000/svg\" height=\"24px\"viewBox=\"0 0 24 24\"\n",
              "       width=\"24px\">\n",
              "    <path d=\"M0 0h24v24H0V0z\" fill=\"none\"/>\n",
              "    <path d=\"M18.56 5.44l.94 2.06.94-2.06 2.06-.94-2.06-.94-.94-2.06-.94 2.06-2.06.94zm-11 1L8.5 8.5l.94-2.06 2.06-.94-2.06-.94L8.5 2.5l-.94 2.06-2.06.94zm10 10l.94 2.06.94-2.06 2.06-.94-2.06-.94-.94-2.06-.94 2.06-2.06.94z\"/><path d=\"M17.41 7.96l-1.37-1.37c-.4-.4-.92-.59-1.43-.59-.52 0-1.04.2-1.43.59L10.3 9.45l-7.72 7.72c-.78.78-.78 2.05 0 2.83L4 21.41c.39.39.9.59 1.41.59.51 0 1.02-.2 1.41-.59l7.78-7.78 2.81-2.81c.8-.78.8-2.07 0-2.86zM5.41 20L4 18.59l7.72-7.72 1.47 1.35L5.41 20z\"/>\n",
              "  </svg>\n",
              "      </button>\n",
              "      \n",
              "  <style>\n",
              "    .colab-df-container {\n",
              "      display:flex;\n",
              "      flex-wrap:wrap;\n",
              "      gap: 12px;\n",
              "    }\n",
              "\n",
              "    .colab-df-convert {\n",
              "      background-color: #E8F0FE;\n",
              "      border: none;\n",
              "      border-radius: 50%;\n",
              "      cursor: pointer;\n",
              "      display: none;\n",
              "      fill: #1967D2;\n",
              "      height: 32px;\n",
              "      padding: 0 0 0 0;\n",
              "      width: 32px;\n",
              "    }\n",
              "\n",
              "    .colab-df-convert:hover {\n",
              "      background-color: #E2EBFA;\n",
              "      box-shadow: 0px 1px 2px rgba(60, 64, 67, 0.3), 0px 1px 3px 1px rgba(60, 64, 67, 0.15);\n",
              "      fill: #174EA6;\n",
              "    }\n",
              "\n",
              "    [theme=dark] .colab-df-convert {\n",
              "      background-color: #3B4455;\n",
              "      fill: #D2E3FC;\n",
              "    }\n",
              "\n",
              "    [theme=dark] .colab-df-convert:hover {\n",
              "      background-color: #434B5C;\n",
              "      box-shadow: 0px 1px 3px 1px rgba(0, 0, 0, 0.15);\n",
              "      filter: drop-shadow(0px 1px 2px rgba(0, 0, 0, 0.3));\n",
              "      fill: #FFFFFF;\n",
              "    }\n",
              "  </style>\n",
              "\n",
              "      <script>\n",
              "        const buttonEl =\n",
              "          document.querySelector('#df-748c03b3-c9de-47a1-9289-2b308f5ce4a8 button.colab-df-convert');\n",
              "        buttonEl.style.display =\n",
              "          google.colab.kernel.accessAllowed ? 'block' : 'none';\n",
              "\n",
              "        async function convertToInteractive(key) {\n",
              "          const element = document.querySelector('#df-748c03b3-c9de-47a1-9289-2b308f5ce4a8');\n",
              "          const dataTable =\n",
              "            await google.colab.kernel.invokeFunction('convertToInteractive',\n",
              "                                                     [key], {});\n",
              "          if (!dataTable) return;\n",
              "\n",
              "          const docLinkHtml = 'Like what you see? Visit the ' +\n",
              "            '<a target=\"_blank\" href=https://colab.research.google.com/notebooks/data_table.ipynb>data table notebook</a>'\n",
              "            + ' to learn more about interactive tables.';\n",
              "          element.innerHTML = '';\n",
              "          dataTable['output_type'] = 'display_data';\n",
              "          await google.colab.output.renderOutput(dataTable, element);\n",
              "          const docLink = document.createElement('div');\n",
              "          docLink.innerHTML = docLinkHtml;\n",
              "          element.appendChild(docLink);\n",
              "        }\n",
              "      </script>\n",
              "    </div>\n",
              "  </div>\n",
              "  "
            ]
          },
          "metadata": {},
          "execution_count": 4
        }
      ]
    },
    {
      "cell_type": "markdown",
      "source": [
        " $H_O$: $\\mu_{landscape}$ = $\\mu_{abstract}$ = $\\mu_{portrait}$ = $\\mu_{fullbody}$ <br>\n",
        " $H_A$: at least one of our means differ <br>\n",
        "\n",
        " Stated above are our hypotheses for the experiment."
      ],
      "metadata": {
        "id": "0m76nA1txx8A"
      }
    },
    {
      "cell_type": "code",
      "source": [
        "print('landscape average score: ' + str(data['landscape'].mean()))\n",
        "print('landscape standard error: ' + str(data['landscape'].sem()))\n",
        "print('landscape median: ' + str(data['landscape'].median()))\n",
        "print('abstract average score: ' + str(data['abstract'].mean()))\n",
        "print('abstract standard error: ' + str(data['abstract'].sem()))\n",
        "print('abstract median: ' + str(data['abstract'].median()))\n",
        "print('portrait average score: ' + str(data['portrait'].mean()))\n",
        "print('portrait standrad error: ' + str(data['portrait'].sem()))\n",
        "print('portrait median: ' + str(data['portrait'].median()))\n",
        "print('full body average score: ' + str(data['fullbody'].mean()))\n",
        "print('full body standard error: ' + str(data['fullbody'].sem()))\n",
        "print('full body median: ' + str(data['fullbody'].median()))"
      ],
      "metadata": {
        "colab": {
          "base_uri": "https://localhost:8080/"
        },
        "id": "ZW-9mZSnNsKJ",
        "outputId": "658d53cb-0e2a-4b8e-b56e-b38e61971d57"
      },
      "execution_count": null,
      "outputs": [
        {
          "output_type": "stream",
          "name": "stdout",
          "text": [
            "landscape average score: 3.289473684210526\n",
            "landscape standard error: 0.15960430594537406\n",
            "landscape median: 3.0\n",
            "abstract average score: 2.6842105263157894\n",
            "abstract standard error: 0.16048141992797105\n",
            "abstract median: 3.0\n",
            "portrait average score: 3.263157894736842\n",
            "portrait standrad error: 0.1586043796843966\n",
            "portrait median: 3.0\n",
            "full body average score: 2.9210526315789473\n",
            "full body standard error: 0.20092807056522644\n",
            "full body median: 3.0\n"
          ]
        }
      ]
    },
    {
      "cell_type": "markdown",
      "source": [
        "Above are some initial summary statistics for our data."
      ],
      "metadata": {
        "id": "mSLyU3UKxcTf"
      }
    },
    {
      "cell_type": "code",
      "source": [
        "rm_melt = pd.melt(data, id_vars=[\"participant\"], value_vars=[\"landscape\",\"abstract\",\"portrait\",\"fullbody\"])\n",
        "rm_melt.columns = [\"participant\",\"image type\",\"score\"]\n",
        "print(rm_melt)"
      ],
      "metadata": {
        "colab": {
          "base_uri": "https://localhost:8080/"
        },
        "id": "XdOMPnleYT0z",
        "outputId": "8b331b19-2c82-43b0-8d03-c9127cd5ec5b"
      },
      "execution_count": null,
      "outputs": [
        {
          "output_type": "stream",
          "name": "stdout",
          "text": [
            "     participant image type  score\n",
            "0              1  landscape      3\n",
            "1              2  landscape      4\n",
            "2              3  landscape      1\n",
            "3              4  landscape      4\n",
            "4              5  landscape      4\n",
            "..           ...        ...    ...\n",
            "147           34   fullbody      4\n",
            "148           35   fullbody      4\n",
            "149           36   fullbody      5\n",
            "150           37   fullbody      0\n",
            "151           38   fullbody      4\n",
            "\n",
            "[152 rows x 3 columns]\n"
          ]
        }
      ]
    },
    {
      "cell_type": "markdown",
      "source": [
        "We initially reformat the data to make it easier to plug into our functions."
      ],
      "metadata": {
        "id": "zzGcoLZCyqES"
      }
    },
    {
      "cell_type": "code",
      "source": [
        "pg.sphericity(data=rm_melt,dv=\"score\",subject=\"participant\",within=\"image type\")"
      ],
      "metadata": {
        "colab": {
          "base_uri": "https://localhost:8080/"
        },
        "id": "YzmseOt7YjnJ",
        "outputId": "c0c2e731-bc39-492e-abd1-805557bf1f8f"
      },
      "execution_count": null,
      "outputs": [
        {
          "output_type": "execute_result",
          "data": {
            "text/plain": [
              "SpherResults(spher=True, W=0.8626423650911859, chi2=5.278139899472336, dof=5, pval=0.38304426150697474)"
            ]
          },
          "metadata": {},
          "execution_count": 7
        }
      ]
    },
    {
      "cell_type": "code",
      "source": [
        "pg.normality(data=rm_melt,dv=\"score\",group=\"image type\")"
      ],
      "metadata": {
        "colab": {
          "base_uri": "https://localhost:8080/",
          "height": 206
        },
        "id": "Ql6DhkGWYp9U",
        "outputId": "c92045f4-2264-4f67-be53-5d19b2375f5f"
      },
      "execution_count": null,
      "outputs": [
        {
          "output_type": "execute_result",
          "data": {
            "text/plain": [
              "                   W      pval  normal\n",
              "image type                            \n",
              "landscape   0.853359  0.000157   False\n",
              "abstract    0.876965  0.000607   False\n",
              "portrait    0.908470  0.004460   False\n",
              "fullbody    0.930643  0.021019   False"
            ],
            "text/html": [
              "\n",
              "  <div id=\"df-c553a900-493a-4a7e-9e2f-d106fc4b518b\">\n",
              "    <div class=\"colab-df-container\">\n",
              "      <div>\n",
              "<style scoped>\n",
              "    .dataframe tbody tr th:only-of-type {\n",
              "        vertical-align: middle;\n",
              "    }\n",
              "\n",
              "    .dataframe tbody tr th {\n",
              "        vertical-align: top;\n",
              "    }\n",
              "\n",
              "    .dataframe thead th {\n",
              "        text-align: right;\n",
              "    }\n",
              "</style>\n",
              "<table border=\"1\" class=\"dataframe\">\n",
              "  <thead>\n",
              "    <tr style=\"text-align: right;\">\n",
              "      <th></th>\n",
              "      <th>W</th>\n",
              "      <th>pval</th>\n",
              "      <th>normal</th>\n",
              "    </tr>\n",
              "    <tr>\n",
              "      <th>image type</th>\n",
              "      <th></th>\n",
              "      <th></th>\n",
              "      <th></th>\n",
              "    </tr>\n",
              "  </thead>\n",
              "  <tbody>\n",
              "    <tr>\n",
              "      <th>landscape</th>\n",
              "      <td>0.853359</td>\n",
              "      <td>0.000157</td>\n",
              "      <td>False</td>\n",
              "    </tr>\n",
              "    <tr>\n",
              "      <th>abstract</th>\n",
              "      <td>0.876965</td>\n",
              "      <td>0.000607</td>\n",
              "      <td>False</td>\n",
              "    </tr>\n",
              "    <tr>\n",
              "      <th>portrait</th>\n",
              "      <td>0.908470</td>\n",
              "      <td>0.004460</td>\n",
              "      <td>False</td>\n",
              "    </tr>\n",
              "    <tr>\n",
              "      <th>fullbody</th>\n",
              "      <td>0.930643</td>\n",
              "      <td>0.021019</td>\n",
              "      <td>False</td>\n",
              "    </tr>\n",
              "  </tbody>\n",
              "</table>\n",
              "</div>\n",
              "      <button class=\"colab-df-convert\" onclick=\"convertToInteractive('df-c553a900-493a-4a7e-9e2f-d106fc4b518b')\"\n",
              "              title=\"Convert this dataframe to an interactive table.\"\n",
              "              style=\"display:none;\">\n",
              "        \n",
              "  <svg xmlns=\"http://www.w3.org/2000/svg\" height=\"24px\"viewBox=\"0 0 24 24\"\n",
              "       width=\"24px\">\n",
              "    <path d=\"M0 0h24v24H0V0z\" fill=\"none\"/>\n",
              "    <path d=\"M18.56 5.44l.94 2.06.94-2.06 2.06-.94-2.06-.94-.94-2.06-.94 2.06-2.06.94zm-11 1L8.5 8.5l.94-2.06 2.06-.94-2.06-.94L8.5 2.5l-.94 2.06-2.06.94zm10 10l.94 2.06.94-2.06 2.06-.94-2.06-.94-.94-2.06-.94 2.06-2.06.94z\"/><path d=\"M17.41 7.96l-1.37-1.37c-.4-.4-.92-.59-1.43-.59-.52 0-1.04.2-1.43.59L10.3 9.45l-7.72 7.72c-.78.78-.78 2.05 0 2.83L4 21.41c.39.39.9.59 1.41.59.51 0 1.02-.2 1.41-.59l7.78-7.78 2.81-2.81c.8-.78.8-2.07 0-2.86zM5.41 20L4 18.59l7.72-7.72 1.47 1.35L5.41 20z\"/>\n",
              "  </svg>\n",
              "      </button>\n",
              "      \n",
              "  <style>\n",
              "    .colab-df-container {\n",
              "      display:flex;\n",
              "      flex-wrap:wrap;\n",
              "      gap: 12px;\n",
              "    }\n",
              "\n",
              "    .colab-df-convert {\n",
              "      background-color: #E8F0FE;\n",
              "      border: none;\n",
              "      border-radius: 50%;\n",
              "      cursor: pointer;\n",
              "      display: none;\n",
              "      fill: #1967D2;\n",
              "      height: 32px;\n",
              "      padding: 0 0 0 0;\n",
              "      width: 32px;\n",
              "    }\n",
              "\n",
              "    .colab-df-convert:hover {\n",
              "      background-color: #E2EBFA;\n",
              "      box-shadow: 0px 1px 2px rgba(60, 64, 67, 0.3), 0px 1px 3px 1px rgba(60, 64, 67, 0.15);\n",
              "      fill: #174EA6;\n",
              "    }\n",
              "\n",
              "    [theme=dark] .colab-df-convert {\n",
              "      background-color: #3B4455;\n",
              "      fill: #D2E3FC;\n",
              "    }\n",
              "\n",
              "    [theme=dark] .colab-df-convert:hover {\n",
              "      background-color: #434B5C;\n",
              "      box-shadow: 0px 1px 3px 1px rgba(0, 0, 0, 0.15);\n",
              "      filter: drop-shadow(0px 1px 2px rgba(0, 0, 0, 0.3));\n",
              "      fill: #FFFFFF;\n",
              "    }\n",
              "  </style>\n",
              "\n",
              "      <script>\n",
              "        const buttonEl =\n",
              "          document.querySelector('#df-c553a900-493a-4a7e-9e2f-d106fc4b518b button.colab-df-convert');\n",
              "        buttonEl.style.display =\n",
              "          google.colab.kernel.accessAllowed ? 'block' : 'none';\n",
              "\n",
              "        async function convertToInteractive(key) {\n",
              "          const element = document.querySelector('#df-c553a900-493a-4a7e-9e2f-d106fc4b518b');\n",
              "          const dataTable =\n",
              "            await google.colab.kernel.invokeFunction('convertToInteractive',\n",
              "                                                     [key], {});\n",
              "          if (!dataTable) return;\n",
              "\n",
              "          const docLinkHtml = 'Like what you see? Visit the ' +\n",
              "            '<a target=\"_blank\" href=https://colab.research.google.com/notebooks/data_table.ipynb>data table notebook</a>'\n",
              "            + ' to learn more about interactive tables.';\n",
              "          element.innerHTML = '';\n",
              "          dataTable['output_type'] = 'display_data';\n",
              "          await google.colab.output.renderOutput(dataTable, element);\n",
              "          const docLink = document.createElement('div');\n",
              "          docLink.innerHTML = docLinkHtml;\n",
              "          element.appendChild(docLink);\n",
              "        }\n",
              "      </script>\n",
              "    </div>\n",
              "  </div>\n",
              "  "
            ]
          },
          "metadata": {},
          "execution_count": 8
        }
      ]
    },
    {
      "cell_type": "markdown",
      "source": [
        "Assumptions checks are needed to conduct a repeated measures ANOVA. We first ran the mauchly sphericity test which passed. Then, we checked our normality assumptions using the shapiro wilk test. This failed for all of our image types. As a result, we conduct a Friedman test (the non parametric equivalent of a repeated measures)."
      ],
      "metadata": {
        "id": "uSKd_IDxy7WV"
      }
    },
    {
      "cell_type": "code",
      "source": [
        "pg.friedman(data=rm_melt, dv=\"score\", within=\"image type\", subject=\"participant\")"
      ],
      "metadata": {
        "colab": {
          "base_uri": "https://localhost:8080/",
          "height": 80
        },
        "id": "biJXboDhaLVo",
        "outputId": "a32b5ac5-cbae-48d5-8058-619b8abf4d8f"
      },
      "execution_count": null,
      "outputs": [
        {
          "output_type": "execute_result",
          "data": {
            "text/plain": [
              "              Source         W  ddof1         Q     p-unc\n",
              "Friedman  image type  0.070938      3  8.086957  0.044248"
            ],
            "text/html": [
              "\n",
              "  <div id=\"df-69465981-7dcb-4b5b-ba23-1995fe7d1374\">\n",
              "    <div class=\"colab-df-container\">\n",
              "      <div>\n",
              "<style scoped>\n",
              "    .dataframe tbody tr th:only-of-type {\n",
              "        vertical-align: middle;\n",
              "    }\n",
              "\n",
              "    .dataframe tbody tr th {\n",
              "        vertical-align: top;\n",
              "    }\n",
              "\n",
              "    .dataframe thead th {\n",
              "        text-align: right;\n",
              "    }\n",
              "</style>\n",
              "<table border=\"1\" class=\"dataframe\">\n",
              "  <thead>\n",
              "    <tr style=\"text-align: right;\">\n",
              "      <th></th>\n",
              "      <th>Source</th>\n",
              "      <th>W</th>\n",
              "      <th>ddof1</th>\n",
              "      <th>Q</th>\n",
              "      <th>p-unc</th>\n",
              "    </tr>\n",
              "  </thead>\n",
              "  <tbody>\n",
              "    <tr>\n",
              "      <th>Friedman</th>\n",
              "      <td>image type</td>\n",
              "      <td>0.070938</td>\n",
              "      <td>3</td>\n",
              "      <td>8.086957</td>\n",
              "      <td>0.044248</td>\n",
              "    </tr>\n",
              "  </tbody>\n",
              "</table>\n",
              "</div>\n",
              "      <button class=\"colab-df-convert\" onclick=\"convertToInteractive('df-69465981-7dcb-4b5b-ba23-1995fe7d1374')\"\n",
              "              title=\"Convert this dataframe to an interactive table.\"\n",
              "              style=\"display:none;\">\n",
              "        \n",
              "  <svg xmlns=\"http://www.w3.org/2000/svg\" height=\"24px\"viewBox=\"0 0 24 24\"\n",
              "       width=\"24px\">\n",
              "    <path d=\"M0 0h24v24H0V0z\" fill=\"none\"/>\n",
              "    <path d=\"M18.56 5.44l.94 2.06.94-2.06 2.06-.94-2.06-.94-.94-2.06-.94 2.06-2.06.94zm-11 1L8.5 8.5l.94-2.06 2.06-.94-2.06-.94L8.5 2.5l-.94 2.06-2.06.94zm10 10l.94 2.06.94-2.06 2.06-.94-2.06-.94-.94-2.06-.94 2.06-2.06.94z\"/><path d=\"M17.41 7.96l-1.37-1.37c-.4-.4-.92-.59-1.43-.59-.52 0-1.04.2-1.43.59L10.3 9.45l-7.72 7.72c-.78.78-.78 2.05 0 2.83L4 21.41c.39.39.9.59 1.41.59.51 0 1.02-.2 1.41-.59l7.78-7.78 2.81-2.81c.8-.78.8-2.07 0-2.86zM5.41 20L4 18.59l7.72-7.72 1.47 1.35L5.41 20z\"/>\n",
              "  </svg>\n",
              "      </button>\n",
              "      \n",
              "  <style>\n",
              "    .colab-df-container {\n",
              "      display:flex;\n",
              "      flex-wrap:wrap;\n",
              "      gap: 12px;\n",
              "    }\n",
              "\n",
              "    .colab-df-convert {\n",
              "      background-color: #E8F0FE;\n",
              "      border: none;\n",
              "      border-radius: 50%;\n",
              "      cursor: pointer;\n",
              "      display: none;\n",
              "      fill: #1967D2;\n",
              "      height: 32px;\n",
              "      padding: 0 0 0 0;\n",
              "      width: 32px;\n",
              "    }\n",
              "\n",
              "    .colab-df-convert:hover {\n",
              "      background-color: #E2EBFA;\n",
              "      box-shadow: 0px 1px 2px rgba(60, 64, 67, 0.3), 0px 1px 3px 1px rgba(60, 64, 67, 0.15);\n",
              "      fill: #174EA6;\n",
              "    }\n",
              "\n",
              "    [theme=dark] .colab-df-convert {\n",
              "      background-color: #3B4455;\n",
              "      fill: #D2E3FC;\n",
              "    }\n",
              "\n",
              "    [theme=dark] .colab-df-convert:hover {\n",
              "      background-color: #434B5C;\n",
              "      box-shadow: 0px 1px 3px 1px rgba(0, 0, 0, 0.15);\n",
              "      filter: drop-shadow(0px 1px 2px rgba(0, 0, 0, 0.3));\n",
              "      fill: #FFFFFF;\n",
              "    }\n",
              "  </style>\n",
              "\n",
              "      <script>\n",
              "        const buttonEl =\n",
              "          document.querySelector('#df-69465981-7dcb-4b5b-ba23-1995fe7d1374 button.colab-df-convert');\n",
              "        buttonEl.style.display =\n",
              "          google.colab.kernel.accessAllowed ? 'block' : 'none';\n",
              "\n",
              "        async function convertToInteractive(key) {\n",
              "          const element = document.querySelector('#df-69465981-7dcb-4b5b-ba23-1995fe7d1374');\n",
              "          const dataTable =\n",
              "            await google.colab.kernel.invokeFunction('convertToInteractive',\n",
              "                                                     [key], {});\n",
              "          if (!dataTable) return;\n",
              "\n",
              "          const docLinkHtml = 'Like what you see? Visit the ' +\n",
              "            '<a target=\"_blank\" href=https://colab.research.google.com/notebooks/data_table.ipynb>data table notebook</a>'\n",
              "            + ' to learn more about interactive tables.';\n",
              "          element.innerHTML = '';\n",
              "          dataTable['output_type'] = 'display_data';\n",
              "          await google.colab.output.renderOutput(dataTable, element);\n",
              "          const docLink = document.createElement('div');\n",
              "          docLink.innerHTML = docLinkHtml;\n",
              "          element.appendChild(docLink);\n",
              "        }\n",
              "      </script>\n",
              "    </div>\n",
              "  </div>\n",
              "  "
            ]
          },
          "metadata": {},
          "execution_count": 9
        }
      ]
    },
    {
      "cell_type": "markdown",
      "source": [
        "A Friedman test was conducted with Q = 8.087 and p-value 0.044. Since the p-value is less than our alpha significance of 0.05, we reject the null hypothesis and conclude that at least one of our means is significantly different."
      ],
      "metadata": {
        "id": "hiBs6cSUz1xY"
      }
    },
    {
      "cell_type": "code",
      "source": [
        "pg.pairwise_tests(dv=\"score\", within=\"image type\", subject=\"participant\", padjust=\"bonf\", data=rm_melt)"
      ],
      "metadata": {
        "colab": {
          "base_uri": "https://localhost:8080/",
          "height": 237
        },
        "id": "URbDHbRPdUzl",
        "outputId": "569ce277-0d17-4b45-f81d-30fa261ac750"
      },
      "execution_count": null,
      "outputs": [
        {
          "output_type": "execute_result",
          "data": {
            "text/plain": [
              "     Contrast          A          B  Paired  Parametric         T   dof  \\\n",
              "0  image type   abstract   fullbody    True        True -0.875610  37.0   \n",
              "1  image type   abstract  landscape    True        True -3.058046  37.0   \n",
              "2  image type   abstract   portrait    True        True -2.536232  37.0   \n",
              "3  image type   fullbody  landscape    True        True -1.575932  37.0   \n",
              "4  image type   fullbody   portrait    True        True -1.506003  37.0   \n",
              "5  image type  landscape   portrait    True        True  0.124345  37.0   \n",
              "\n",
              "  alternative     p-unc    p-corr p-adjust   BF10    hedges  \n",
              "0   two-sided  0.386891  1.000000     bonf   0.25 -0.209149  \n",
              "1   two-sided  0.004125  0.024753     bonf  8.906 -0.607261  \n",
              "2   two-sided  0.015558  0.093346     bonf  2.855 -0.582671  \n",
              "3   two-sided  0.123554  0.741326     bonf  0.541 -0.326036  \n",
              "4   two-sided  0.140557  0.843341     bonf  0.492 -0.303481  \n",
              "5   two-sided  0.901715  1.000000     bonf  0.176  0.026558  "
            ],
            "text/html": [
              "\n",
              "  <div id=\"df-e8220ae9-bf03-4bea-80a0-5cd5388d962f\">\n",
              "    <div class=\"colab-df-container\">\n",
              "      <div>\n",
              "<style scoped>\n",
              "    .dataframe tbody tr th:only-of-type {\n",
              "        vertical-align: middle;\n",
              "    }\n",
              "\n",
              "    .dataframe tbody tr th {\n",
              "        vertical-align: top;\n",
              "    }\n",
              "\n",
              "    .dataframe thead th {\n",
              "        text-align: right;\n",
              "    }\n",
              "</style>\n",
              "<table border=\"1\" class=\"dataframe\">\n",
              "  <thead>\n",
              "    <tr style=\"text-align: right;\">\n",
              "      <th></th>\n",
              "      <th>Contrast</th>\n",
              "      <th>A</th>\n",
              "      <th>B</th>\n",
              "      <th>Paired</th>\n",
              "      <th>Parametric</th>\n",
              "      <th>T</th>\n",
              "      <th>dof</th>\n",
              "      <th>alternative</th>\n",
              "      <th>p-unc</th>\n",
              "      <th>p-corr</th>\n",
              "      <th>p-adjust</th>\n",
              "      <th>BF10</th>\n",
              "      <th>hedges</th>\n",
              "    </tr>\n",
              "  </thead>\n",
              "  <tbody>\n",
              "    <tr>\n",
              "      <th>0</th>\n",
              "      <td>image type</td>\n",
              "      <td>abstract</td>\n",
              "      <td>fullbody</td>\n",
              "      <td>True</td>\n",
              "      <td>True</td>\n",
              "      <td>-0.875610</td>\n",
              "      <td>37.0</td>\n",
              "      <td>two-sided</td>\n",
              "      <td>0.386891</td>\n",
              "      <td>1.000000</td>\n",
              "      <td>bonf</td>\n",
              "      <td>0.25</td>\n",
              "      <td>-0.209149</td>\n",
              "    </tr>\n",
              "    <tr>\n",
              "      <th>1</th>\n",
              "      <td>image type</td>\n",
              "      <td>abstract</td>\n",
              "      <td>landscape</td>\n",
              "      <td>True</td>\n",
              "      <td>True</td>\n",
              "      <td>-3.058046</td>\n",
              "      <td>37.0</td>\n",
              "      <td>two-sided</td>\n",
              "      <td>0.004125</td>\n",
              "      <td>0.024753</td>\n",
              "      <td>bonf</td>\n",
              "      <td>8.906</td>\n",
              "      <td>-0.607261</td>\n",
              "    </tr>\n",
              "    <tr>\n",
              "      <th>2</th>\n",
              "      <td>image type</td>\n",
              "      <td>abstract</td>\n",
              "      <td>portrait</td>\n",
              "      <td>True</td>\n",
              "      <td>True</td>\n",
              "      <td>-2.536232</td>\n",
              "      <td>37.0</td>\n",
              "      <td>two-sided</td>\n",
              "      <td>0.015558</td>\n",
              "      <td>0.093346</td>\n",
              "      <td>bonf</td>\n",
              "      <td>2.855</td>\n",
              "      <td>-0.582671</td>\n",
              "    </tr>\n",
              "    <tr>\n",
              "      <th>3</th>\n",
              "      <td>image type</td>\n",
              "      <td>fullbody</td>\n",
              "      <td>landscape</td>\n",
              "      <td>True</td>\n",
              "      <td>True</td>\n",
              "      <td>-1.575932</td>\n",
              "      <td>37.0</td>\n",
              "      <td>two-sided</td>\n",
              "      <td>0.123554</td>\n",
              "      <td>0.741326</td>\n",
              "      <td>bonf</td>\n",
              "      <td>0.541</td>\n",
              "      <td>-0.326036</td>\n",
              "    </tr>\n",
              "    <tr>\n",
              "      <th>4</th>\n",
              "      <td>image type</td>\n",
              "      <td>fullbody</td>\n",
              "      <td>portrait</td>\n",
              "      <td>True</td>\n",
              "      <td>True</td>\n",
              "      <td>-1.506003</td>\n",
              "      <td>37.0</td>\n",
              "      <td>two-sided</td>\n",
              "      <td>0.140557</td>\n",
              "      <td>0.843341</td>\n",
              "      <td>bonf</td>\n",
              "      <td>0.492</td>\n",
              "      <td>-0.303481</td>\n",
              "    </tr>\n",
              "    <tr>\n",
              "      <th>5</th>\n",
              "      <td>image type</td>\n",
              "      <td>landscape</td>\n",
              "      <td>portrait</td>\n",
              "      <td>True</td>\n",
              "      <td>True</td>\n",
              "      <td>0.124345</td>\n",
              "      <td>37.0</td>\n",
              "      <td>two-sided</td>\n",
              "      <td>0.901715</td>\n",
              "      <td>1.000000</td>\n",
              "      <td>bonf</td>\n",
              "      <td>0.176</td>\n",
              "      <td>0.026558</td>\n",
              "    </tr>\n",
              "  </tbody>\n",
              "</table>\n",
              "</div>\n",
              "      <button class=\"colab-df-convert\" onclick=\"convertToInteractive('df-e8220ae9-bf03-4bea-80a0-5cd5388d962f')\"\n",
              "              title=\"Convert this dataframe to an interactive table.\"\n",
              "              style=\"display:none;\">\n",
              "        \n",
              "  <svg xmlns=\"http://www.w3.org/2000/svg\" height=\"24px\"viewBox=\"0 0 24 24\"\n",
              "       width=\"24px\">\n",
              "    <path d=\"M0 0h24v24H0V0z\" fill=\"none\"/>\n",
              "    <path d=\"M18.56 5.44l.94 2.06.94-2.06 2.06-.94-2.06-.94-.94-2.06-.94 2.06-2.06.94zm-11 1L8.5 8.5l.94-2.06 2.06-.94-2.06-.94L8.5 2.5l-.94 2.06-2.06.94zm10 10l.94 2.06.94-2.06 2.06-.94-2.06-.94-.94-2.06-.94 2.06-2.06.94z\"/><path d=\"M17.41 7.96l-1.37-1.37c-.4-.4-.92-.59-1.43-.59-.52 0-1.04.2-1.43.59L10.3 9.45l-7.72 7.72c-.78.78-.78 2.05 0 2.83L4 21.41c.39.39.9.59 1.41.59.51 0 1.02-.2 1.41-.59l7.78-7.78 2.81-2.81c.8-.78.8-2.07 0-2.86zM5.41 20L4 18.59l7.72-7.72 1.47 1.35L5.41 20z\"/>\n",
              "  </svg>\n",
              "      </button>\n",
              "      \n",
              "  <style>\n",
              "    .colab-df-container {\n",
              "      display:flex;\n",
              "      flex-wrap:wrap;\n",
              "      gap: 12px;\n",
              "    }\n",
              "\n",
              "    .colab-df-convert {\n",
              "      background-color: #E8F0FE;\n",
              "      border: none;\n",
              "      border-radius: 50%;\n",
              "      cursor: pointer;\n",
              "      display: none;\n",
              "      fill: #1967D2;\n",
              "      height: 32px;\n",
              "      padding: 0 0 0 0;\n",
              "      width: 32px;\n",
              "    }\n",
              "\n",
              "    .colab-df-convert:hover {\n",
              "      background-color: #E2EBFA;\n",
              "      box-shadow: 0px 1px 2px rgba(60, 64, 67, 0.3), 0px 1px 3px 1px rgba(60, 64, 67, 0.15);\n",
              "      fill: #174EA6;\n",
              "    }\n",
              "\n",
              "    [theme=dark] .colab-df-convert {\n",
              "      background-color: #3B4455;\n",
              "      fill: #D2E3FC;\n",
              "    }\n",
              "\n",
              "    [theme=dark] .colab-df-convert:hover {\n",
              "      background-color: #434B5C;\n",
              "      box-shadow: 0px 1px 3px 1px rgba(0, 0, 0, 0.15);\n",
              "      filter: drop-shadow(0px 1px 2px rgba(0, 0, 0, 0.3));\n",
              "      fill: #FFFFFF;\n",
              "    }\n",
              "  </style>\n",
              "\n",
              "      <script>\n",
              "        const buttonEl =\n",
              "          document.querySelector('#df-e8220ae9-bf03-4bea-80a0-5cd5388d962f button.colab-df-convert');\n",
              "        buttonEl.style.display =\n",
              "          google.colab.kernel.accessAllowed ? 'block' : 'none';\n",
              "\n",
              "        async function convertToInteractive(key) {\n",
              "          const element = document.querySelector('#df-e8220ae9-bf03-4bea-80a0-5cd5388d962f');\n",
              "          const dataTable =\n",
              "            await google.colab.kernel.invokeFunction('convertToInteractive',\n",
              "                                                     [key], {});\n",
              "          if (!dataTable) return;\n",
              "\n",
              "          const docLinkHtml = 'Like what you see? Visit the ' +\n",
              "            '<a target=\"_blank\" href=https://colab.research.google.com/notebooks/data_table.ipynb>data table notebook</a>'\n",
              "            + ' to learn more about interactive tables.';\n",
              "          element.innerHTML = '';\n",
              "          dataTable['output_type'] = 'display_data';\n",
              "          await google.colab.output.renderOutput(dataTable, element);\n",
              "          const docLink = document.createElement('div');\n",
              "          docLink.innerHTML = docLinkHtml;\n",
              "          element.appendChild(docLink);\n",
              "        }\n",
              "      </script>\n",
              "    </div>\n",
              "  </div>\n",
              "  "
            ]
          },
          "metadata": {},
          "execution_count": 10
        }
      ]
    },
    {
      "cell_type": "markdown",
      "source": [
        "Pairwise t tests were then conducted to investigate which specific means were significantly different from each other. Looking at our p-values, the difference between our abstract and landscape scores (p-value = 0.004) and abstract and portrait scores (p-value = 0.02) are significant. Thus, we conclude that users were significantly better at identifiying images classified as landscape or portrait over abstract ones."
      ],
      "metadata": {
        "id": "sywtbC7C0Ekg"
      }
    },
    {
      "cell_type": "code",
      "source": [
        "ax = sns.boxplot(x=\"image type\", y=\"score\",data=rm_melt, color=\"#99c2a2\")\n",
        "ax = sns.swarmplot(x=\"image type\", y=\"score\",data=rm_melt, s = 4)\n",
        "plt.show()"
      ],
      "metadata": {
        "colab": {
          "base_uri": "https://localhost:8080/",
          "height": 449
        },
        "id": "1ao-D5f8d58B",
        "outputId": "bf750b6a-c7c1-40a8-b5e4-1a8018cbb8c1"
      },
      "execution_count": null,
      "outputs": [
        {
          "output_type": "display_data",
          "data": {
            "text/plain": [
              "<Figure size 640x480 with 1 Axes>"
            ],
            "image/png": "[encoded data removed]"
          },
          "metadata": {}
        }
      ]
    },
    {
      "cell_type": "markdown",
      "source": [
        "Our data distribution can be easily visualized by the box and swarm plot shown above."
      ],
      "metadata": {
        "id": "QhWASO2a0v_e"
      }
    }
  ]
}